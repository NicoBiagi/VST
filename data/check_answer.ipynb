{
 "cells": [
  {
   "cell_type": "code",
   "execution_count": 1,
   "id": "5966d3c1-60ba-41ca-93a6-29b67e2008ce",
   "metadata": {},
   "outputs": [],
   "source": [
    "import math\n",
    "import os\n",
    "import numpy as np\n",
    "import pandas as pd\n",
    "from pathlib import Path"
   ]
  },
  {
   "cell_type": "code",
   "execution_count": 2,
   "id": "4b39cec3-27e3-4c70-9953-4bcfc5729fe1",
   "metadata": {},
   "outputs": [],
   "source": [
    "pwd = os.getcwd()\n",
    "datafile = pwd+'/VST-data03.csv'\n",
    "\n",
    "df = pd.read_csv(datafile)"
   ]
  },
  {
   "cell_type": "code",
   "execution_count": 3,
   "id": "70748af6-45a2-45ea-b024-9f58daeb7e49",
   "metadata": {},
   "outputs": [],
   "source": [
    "df2 = df[(df['trial_type'] == \"html-keyboard-response\")&(df['task']=='VST')][\"stimulus\"]\n",
    "df2.reset_index(drop=True, inplace=True)"
   ]
  },
  {
   "cell_type": "code",
   "execution_count": 4,
   "id": "1bb48fa7-5e1c-4f49-b045-065c573e7e2c",
   "metadata": {},
   "outputs": [],
   "source": [
    "import re\n",
    "import pandas as pd\n",
    "\n",
    "def extract_pattern_from_string(string):\n",
    "    pattern = re.compile(r'>.+?</div>')\n",
    "    matches = re.findall(pattern, string)\n",
    "    filtered_matches = [match[1:-6] for match in matches if match.startswith('>') and match.endswith('</div>')]\n",
    "    return filtered_matches\n",
    "\n",
    "def extract_patterns_from_strings(strings):\n",
    "    matched_patterns = []\n",
    "    for string in strings:\n",
    "        matched_patterns.append(extract_pattern_from_string(string))\n",
    "    return matched_patterns\n",
    "\n",
    "def create_dataframe_from_patterns(matched_patterns):\n",
    "    data = {}\n",
    "    for i, patterns in enumerate(matched_patterns):\n",
    "        for j, pattern in enumerate(patterns):\n",
    "            column_name = f'Column_{j+1}'\n",
    "            if column_name not in data:\n",
    "                data[column_name] = ['']*len(matched_patterns)\n",
    "            data[column_name][i] = pattern\n",
    "    return pd.DataFrame(data)"
   ]
  },
  {
   "cell_type": "code",
   "execution_count": 5,
   "id": "f08d4f4d-0643-48a3-b55c-99c334826526",
   "metadata": {},
   "outputs": [
    {
     "data": {
      "text/html": [
       "<div>\n",
       "<style scoped>\n",
       "    .dataframe tbody tr th:only-of-type {\n",
       "        vertical-align: middle;\n",
       "    }\n",
       "\n",
       "    .dataframe tbody tr th {\n",
       "        vertical-align: top;\n",
       "    }\n",
       "\n",
       "    .dataframe thead th {\n",
       "        text-align: right;\n",
       "    }\n",
       "</style>\n",
       "<table border=\"1\" class=\"dataframe\">\n",
       "  <thead>\n",
       "    <tr style=\"text-align: right;\">\n",
       "      <th></th>\n",
       "      <th>Column_1</th>\n",
       "      <th>Column_2</th>\n",
       "      <th>Column_3</th>\n",
       "      <th>Column_4</th>\n",
       "    </tr>\n",
       "  </thead>\n",
       "  <tbody>\n",
       "    <tr>\n",
       "      <th>0</th>\n",
       "      <td>unknown</td>\n",
       "      <td>unknown</td>\n",
       "      <td>unknown</td>\n",
       "      <td>txvdnbb</td>\n",
       "    </tr>\n",
       "    <tr>\n",
       "      <th>1</th>\n",
       "      <td>jsghp</td>\n",
       "      <td>gwyqg</td>\n",
       "      <td>jsghp</td>\n",
       "      <td>jsghp</td>\n",
       "    </tr>\n",
       "    <tr>\n",
       "      <th>2</th>\n",
       "      <td>vague</td>\n",
       "      <td>vague</td>\n",
       "      <td>vague</td>\n",
       "      <td>wrflz</td>\n",
       "    </tr>\n",
       "    <tr>\n",
       "      <th>3</th>\n",
       "      <td>smvgxbr</td>\n",
       "      <td>utensil</td>\n",
       "      <td>smvgxbr</td>\n",
       "      <td>smvgxbr</td>\n",
       "    </tr>\n",
       "    <tr>\n",
       "      <th>4</th>\n",
       "      <td>unitary</td>\n",
       "      <td>noodles</td>\n",
       "      <td>unitary</td>\n",
       "      <td>unitary</td>\n",
       "    </tr>\n",
       "    <tr>\n",
       "      <th>5</th>\n",
       "      <td>gwmwql</td>\n",
       "      <td>gwmwql</td>\n",
       "      <td>gwmwql</td>\n",
       "      <td>zjgdys</td>\n",
       "    </tr>\n",
       "    <tr>\n",
       "      <th>6</th>\n",
       "      <td>uncertain</td>\n",
       "      <td>cgpfdjfrq</td>\n",
       "      <td>uncertain</td>\n",
       "      <td>uncertain</td>\n",
       "    </tr>\n",
       "    <tr>\n",
       "      <th>7</th>\n",
       "      <td>kfftyn</td>\n",
       "      <td>kettle</td>\n",
       "      <td>kfftyn</td>\n",
       "      <td>kfftyn</td>\n",
       "    </tr>\n",
       "    <tr>\n",
       "      <th>8</th>\n",
       "      <td>utensil</td>\n",
       "      <td>utensil</td>\n",
       "      <td>utensil</td>\n",
       "      <td>smvgxbr</td>\n",
       "    </tr>\n",
       "    <tr>\n",
       "      <th>9</th>\n",
       "      <td>picture</td>\n",
       "      <td>pvnxbqy</td>\n",
       "      <td>picture</td>\n",
       "      <td>picture</td>\n",
       "    </tr>\n",
       "  </tbody>\n",
       "</table>\n",
       "</div>"
      ],
      "text/plain": [
       "    Column_1   Column_2   Column_3   Column_4\n",
       "0    unknown    unknown    unknown    txvdnbb\n",
       "1      jsghp      gwyqg      jsghp      jsghp\n",
       "2      vague      vague      vague      wrflz\n",
       "3    smvgxbr    utensil    smvgxbr    smvgxbr\n",
       "4    unitary    noodles    unitary    unitary\n",
       "5     gwmwql     gwmwql     gwmwql     zjgdys\n",
       "6  uncertain  cgpfdjfrq  uncertain  uncertain\n",
       "7     kfftyn     kettle     kfftyn     kfftyn\n",
       "8    utensil    utensil    utensil    smvgxbr\n",
       "9    picture    pvnxbqy    picture    picture"
      ]
     },
     "execution_count": 5,
     "metadata": {},
     "output_type": "execute_result"
    }
   ],
   "source": [
    "matched_patterns = extract_patterns_from_strings(df2)\n",
    "df3 = create_dataframe_from_patterns(matched_patterns)\n",
    "df3"
   ]
  },
  {
   "cell_type": "code",
   "execution_count": 6,
   "id": "db4fcf34-a9d7-4a86-9b90-9a06aa9ff1d8",
   "metadata": {},
   "outputs": [],
   "source": [
    "# Define a function to get the index of the different element in each row\n",
    "def get_different_index(row):\n",
    "    values = set(row)\n",
    "    for i, value in enumerate(row):\n",
    "        if list(row).count(value) == 1:\n",
    "            return i"
   ]
  },
  {
   "cell_type": "code",
   "execution_count": 7,
   "id": "e2862512-502e-4309-ace9-04b655b85339",
   "metadata": {},
   "outputs": [
    {
     "data": {
      "text/html": [
       "<div>\n",
       "<style scoped>\n",
       "    .dataframe tbody tr th:only-of-type {\n",
       "        vertical-align: middle;\n",
       "    }\n",
       "\n",
       "    .dataframe tbody tr th {\n",
       "        vertical-align: top;\n",
       "    }\n",
       "\n",
       "    .dataframe thead th {\n",
       "        text-align: right;\n",
       "    }\n",
       "</style>\n",
       "<table border=\"1\" class=\"dataframe\">\n",
       "  <thead>\n",
       "    <tr style=\"text-align: right;\">\n",
       "      <th></th>\n",
       "      <th>Column_1</th>\n",
       "      <th>Column_2</th>\n",
       "      <th>Column_3</th>\n",
       "      <th>Column_4</th>\n",
       "    </tr>\n",
       "  </thead>\n",
       "  <tbody>\n",
       "    <tr>\n",
       "      <th>0</th>\n",
       "      <td>txvdnbb</td>\n",
       "      <td>unknown</td>\n",
       "      <td>unknown</td>\n",
       "      <td>unknown</td>\n",
       "    </tr>\n",
       "    <tr>\n",
       "      <th>1</th>\n",
       "      <td>gwyqg</td>\n",
       "      <td>jsghp</td>\n",
       "      <td>jsghp</td>\n",
       "      <td>jsghp</td>\n",
       "    </tr>\n",
       "    <tr>\n",
       "      <th>2</th>\n",
       "      <td>wrflz</td>\n",
       "      <td>vague</td>\n",
       "      <td>vague</td>\n",
       "      <td>vague</td>\n",
       "    </tr>\n",
       "    <tr>\n",
       "      <th>3</th>\n",
       "      <td>utensil</td>\n",
       "      <td>smvgxbr</td>\n",
       "      <td>smvgxbr</td>\n",
       "      <td>smvgxbr</td>\n",
       "    </tr>\n",
       "    <tr>\n",
       "      <th>4</th>\n",
       "      <td>noodles</td>\n",
       "      <td>unitary</td>\n",
       "      <td>unitary</td>\n",
       "      <td>unitary</td>\n",
       "    </tr>\n",
       "    <tr>\n",
       "      <th>5</th>\n",
       "      <td>zjgdys</td>\n",
       "      <td>gwmwql</td>\n",
       "      <td>gwmwql</td>\n",
       "      <td>gwmwql</td>\n",
       "    </tr>\n",
       "    <tr>\n",
       "      <th>6</th>\n",
       "      <td>cgpfdjfrq</td>\n",
       "      <td>uncertain</td>\n",
       "      <td>uncertain</td>\n",
       "      <td>uncertain</td>\n",
       "    </tr>\n",
       "    <tr>\n",
       "      <th>7</th>\n",
       "      <td>kettle</td>\n",
       "      <td>kfftyn</td>\n",
       "      <td>kfftyn</td>\n",
       "      <td>kfftyn</td>\n",
       "    </tr>\n",
       "    <tr>\n",
       "      <th>8</th>\n",
       "      <td>smvgxbr</td>\n",
       "      <td>utensil</td>\n",
       "      <td>utensil</td>\n",
       "      <td>utensil</td>\n",
       "    </tr>\n",
       "    <tr>\n",
       "      <th>9</th>\n",
       "      <td>pvnxbqy</td>\n",
       "      <td>picture</td>\n",
       "      <td>picture</td>\n",
       "      <td>picture</td>\n",
       "    </tr>\n",
       "  </tbody>\n",
       "</table>\n",
       "</div>"
      ],
      "text/plain": [
       "    Column_1   Column_2   Column_3   Column_4\n",
       "0    txvdnbb    unknown    unknown    unknown\n",
       "1      gwyqg      jsghp      jsghp      jsghp\n",
       "2      wrflz      vague      vague      vague\n",
       "3    utensil    smvgxbr    smvgxbr    smvgxbr\n",
       "4    noodles    unitary    unitary    unitary\n",
       "5     zjgdys     gwmwql     gwmwql     gwmwql\n",
       "6  cgpfdjfrq  uncertain  uncertain  uncertain\n",
       "7     kettle     kfftyn     kfftyn     kfftyn\n",
       "8    smvgxbr    utensil    utensil    utensil\n",
       "9    pvnxbqy    picture    picture    picture"
      ]
     },
     "execution_count": 7,
     "metadata": {},
     "output_type": "execute_result"
    }
   ],
   "source": [
    "# Apply the function to each row and rearrange the elements accordingly\n",
    "for index, row in df3.iterrows():\n",
    "    different_index = get_different_index(row)\n",
    "    if different_index is not None:\n",
    "        row = row.tolist()\n",
    "        different_value = row.pop(different_index)\n",
    "        row.insert(0, different_value)\n",
    "        df3.iloc[index] = row\n",
    "df3"
   ]
  },
  {
   "cell_type": "code",
   "execution_count": 8,
   "id": "4cdb9ddd-d603-4128-8f7d-c07c0e914fb3",
   "metadata": {},
   "outputs": [],
   "source": [
    "ppt_responses = df[(df['trial_type'] == \"html-keyboard-response\")&(df['task']=='VST')][\"response\"]\n",
    "ppt_responses.reset_index(drop=True, inplace=True)"
   ]
  },
  {
   "cell_type": "code",
   "execution_count": 9,
   "id": "b3be5e4b-2f76-4a57-a32c-0e25b7a5b7b2",
   "metadata": {},
   "outputs": [
    {
     "data": {
      "text/plain": [
       "'/Users/kv914393/Documents/GitHub/VST'"
      ]
     },
     "execution_count": 9,
     "metadata": {},
     "output_type": "execute_result"
    }
   ],
   "source": [
    "def get_parent_dir(directory):\n",
    "    import os\n",
    "    return os.path.dirname(directory)\n",
    "\n",
    "current_dirs_parent = get_parent_dir(os.getcwd())\n",
    "current_dirs_parent"
   ]
  },
  {
   "cell_type": "code",
   "execution_count": 10,
   "id": "3fec6a77-0c3a-42df-959e-7b4024ad55ad",
   "metadata": {},
   "outputs": [],
   "source": [
    "datafile2 = current_dirs_parent + '/shuffled_stimuli.csv'\n",
    "stim = pd.read_csv(datafile2)"
   ]
  },
  {
   "cell_type": "code",
   "execution_count": 11,
   "id": "67734bcd-777f-4d86-989a-342f5080ecf9",
   "metadata": {},
   "outputs": [],
   "source": [
    "check = stim[\"stimuli\"]\n",
    "new_check = check.str.split(',', expand=True)"
   ]
  },
  {
   "cell_type": "code",
   "execution_count": 12,
   "id": "171a0aa4-d505-4dc7-9035-6ad22ff63d27",
   "metadata": {},
   "outputs": [
    {
     "data": {
      "text/html": [
       "<div>\n",
       "<style scoped>\n",
       "    .dataframe tbody tr th:only-of-type {\n",
       "        vertical-align: middle;\n",
       "    }\n",
       "\n",
       "    .dataframe tbody tr th {\n",
       "        vertical-align: top;\n",
       "    }\n",
       "\n",
       "    .dataframe thead th {\n",
       "        text-align: right;\n",
       "    }\n",
       "</style>\n",
       "<table border=\"1\" class=\"dataframe\">\n",
       "  <thead>\n",
       "    <tr style=\"text-align: right;\">\n",
       "      <th></th>\n",
       "      <th>0</th>\n",
       "      <th>1</th>\n",
       "      <th>2</th>\n",
       "      <th>3</th>\n",
       "    </tr>\n",
       "  </thead>\n",
       "  <tbody>\n",
       "    <tr>\n",
       "      <th>0</th>\n",
       "      <td>txvdnbb</td>\n",
       "      <td>unknown</td>\n",
       "      <td>unknown</td>\n",
       "      <td>unknown</td>\n",
       "    </tr>\n",
       "    <tr>\n",
       "      <th>1</th>\n",
       "      <td>gwyqg</td>\n",
       "      <td>jsghp</td>\n",
       "      <td>jsghp</td>\n",
       "      <td>jsghp</td>\n",
       "    </tr>\n",
       "    <tr>\n",
       "      <th>2</th>\n",
       "      <td>wrflz</td>\n",
       "      <td>vague</td>\n",
       "      <td>vague</td>\n",
       "      <td>vague</td>\n",
       "    </tr>\n",
       "    <tr>\n",
       "      <th>3</th>\n",
       "      <td>utensil</td>\n",
       "      <td>smvgxbr</td>\n",
       "      <td>smvgxbr</td>\n",
       "      <td>smvgxbr</td>\n",
       "    </tr>\n",
       "    <tr>\n",
       "      <th>4</th>\n",
       "      <td>noodles</td>\n",
       "      <td>unitary</td>\n",
       "      <td>unitary</td>\n",
       "      <td>unitary</td>\n",
       "    </tr>\n",
       "    <tr>\n",
       "      <th>5</th>\n",
       "      <td>zjgdys</td>\n",
       "      <td>gwmwql</td>\n",
       "      <td>gwmwql</td>\n",
       "      <td>gwmwql</td>\n",
       "    </tr>\n",
       "    <tr>\n",
       "      <th>6</th>\n",
       "      <td>cgpfdjfrq</td>\n",
       "      <td>uncertain</td>\n",
       "      <td>uncertain</td>\n",
       "      <td>uncertain</td>\n",
       "    </tr>\n",
       "    <tr>\n",
       "      <th>7</th>\n",
       "      <td>kettle</td>\n",
       "      <td>kfftyn</td>\n",
       "      <td>kfftyn</td>\n",
       "      <td>kfftyn</td>\n",
       "    </tr>\n",
       "    <tr>\n",
       "      <th>8</th>\n",
       "      <td>smvgxbr</td>\n",
       "      <td>utensil</td>\n",
       "      <td>utensil</td>\n",
       "      <td>utensil</td>\n",
       "    </tr>\n",
       "    <tr>\n",
       "      <th>9</th>\n",
       "      <td>pvnxbqy</td>\n",
       "      <td>picture</td>\n",
       "      <td>picture</td>\n",
       "      <td>picture</td>\n",
       "    </tr>\n",
       "  </tbody>\n",
       "</table>\n",
       "</div>"
      ],
      "text/plain": [
       "           0          1          2          3\n",
       "0    txvdnbb    unknown    unknown    unknown\n",
       "1      gwyqg      jsghp      jsghp      jsghp\n",
       "2      wrflz      vague      vague      vague\n",
       "3    utensil    smvgxbr    smvgxbr    smvgxbr\n",
       "4    noodles    unitary    unitary    unitary\n",
       "5     zjgdys     gwmwql     gwmwql     gwmwql\n",
       "6  cgpfdjfrq  uncertain  uncertain  uncertain\n",
       "7     kettle     kfftyn     kfftyn     kfftyn\n",
       "8    smvgxbr    utensil    utensil    utensil\n",
       "9    pvnxbqy    picture    picture    picture"
      ]
     },
     "execution_count": 12,
     "metadata": {},
     "output_type": "execute_result"
    }
   ],
   "source": [
    "bo = new_check[0:10]\n",
    "bo"
   ]
  },
  {
   "cell_type": "code",
   "execution_count": 13,
   "id": "77de22e2-f3bd-4653-94f3-d16bc21d2997",
   "metadata": {},
   "outputs": [],
   "source": [
    "correct_responses = stim['correct_answer']\n",
    "correct_answ = correct_responses[0:10]"
   ]
  },
  {
   "cell_type": "code",
   "execution_count": 14,
   "id": "4ef838d1-c3d1-4dd6-91ec-068e0f233c40",
   "metadata": {},
   "outputs": [
    {
     "data": {
      "text/plain": [
       "0    z\n",
       "1    z\n",
       "2    z\n",
       "3    m\n",
       "4    m\n",
       "5    z\n",
       "6    z\n",
       "7    m\n",
       "8    z\n",
       "9    z\n",
       "Name: correct_answer, dtype: object"
      ]
     },
     "execution_count": 14,
     "metadata": {},
     "output_type": "execute_result"
    }
   ],
   "source": [
    "correct_answ"
   ]
  },
  {
   "cell_type": "code",
   "execution_count": 15,
   "id": "704fafe4-9bc3-4f37-9e8d-b145bbe01071",
   "metadata": {},
   "outputs": [
    {
     "data": {
      "text/plain": [
       "0    m\n",
       "1    z\n",
       "2    z\n",
       "3    m\n",
       "4    m\n",
       "5    z\n",
       "6    z\n",
       "7    m\n",
       "8    z\n",
       "9    z\n",
       "Name: response, dtype: object"
      ]
     },
     "execution_count": 15,
     "metadata": {},
     "output_type": "execute_result"
    }
   ],
   "source": [
    "ppt_responses"
   ]
  },
  {
   "cell_type": "code",
   "execution_count": 16,
   "id": "6dac56cd-0718-4e7d-a986-e57ead3947cc",
   "metadata": {},
   "outputs": [
    {
     "data": {
      "text/plain": [
       "9"
      ]
     },
     "execution_count": 16,
     "metadata": {},
     "output_type": "execute_result"
    }
   ],
   "source": [
    "# initialize performance variable to 0\n",
    "performance = 0\n",
    "\n",
    "# compare the contents of each element\n",
    "if len(ppt_responses) == len(correct_answ):\n",
    "    for i in range(len(ppt_responses)):\n",
    "        if ppt_responses[i] == correct_answ[i]:\n",
    "            # add 1 to performance if the contents match\n",
    "            performance += 1\n",
    "else:\n",
    "    print(\"Error: array1 and array2 must have the same length.\")\n",
    "performance"
   ]
  },
  {
   "cell_type": "code",
   "execution_count": null,
   "id": "2c139c18-8e21-4397-b962-c840bc0009e2",
   "metadata": {},
   "outputs": [],
   "source": []
  }
 ],
 "metadata": {
  "kernelspec": {
   "display_name": "Python 3 (ipykernel)",
   "language": "python",
   "name": "python3"
  },
  "language_info": {
   "codemirror_mode": {
    "name": "ipython",
    "version": 3
   },
   "file_extension": ".py",
   "mimetype": "text/x-python",
   "name": "python",
   "nbconvert_exporter": "python",
   "pygments_lexer": "ipython3",
   "version": "3.10.9"
  }
 },
 "nbformat": 4,
 "nbformat_minor": 5
}
